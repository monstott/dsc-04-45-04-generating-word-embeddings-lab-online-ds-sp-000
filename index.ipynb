{
 "cells": [
  {
   "cell_type": "markdown",
   "metadata": {},
   "source": [
    "# Generating Word Embeddings - Lab\n",
    "\n",
    "## Introduction\n",
    "\n",
    "In this lab, we'll learn how to generate our own word embeddings by training our own Word2Vec model, and also by building embedding layers right into our Deep Neural Networks!\n",
    "\n",
    "## Objectives\n",
    "\n",
    "You will be able to:\n",
    "\n",
    "* Demonstrate a basic understanding of the architecture of the Word2Vec model\n",
    "* Demonstrate an understanding of the various tunable parameters of word2vec such as vector size and window size\n",
    "\n",
    "## Getting Started\n",
    "\n",
    "In this lab, we'll start by creating our own word embeddings by making use of the Word2Vec Model. Then, we'll move onto building Neural Networks that make use of **_Embedding Layers_** to accomplish the same end-goal, but directly in our model. \n",
    "\n",
    "The easiest way to make use of Word2Vec is to import it from the [Gensim Library](https://radimrehurek.com/gensim/). This model contains a full implementation of Word2Vec, which we can use to begin training immediately. For this lab, we'll be working with the [News Category Dataset from Kaggle](https://www.kaggle.com/rmisra/news-category-dataset/version/2#_=_).  This dataset contains headlines and article descriptions from the news, as well as categories for which type of article they belong to.  In this lab, we'll learn how to train a Word2Vec model on the text data to generate word embeddings for them. In the next lab, we'll then use the vectors created by our Word2Vec model to effectively train a classifier to predict the category of news given the headline and description of each article. In this lab, we won't do any classification, although we will learn how to train a Word2Vec model and explore the relationships between different word vectors in our embedding!\n",
    "\n",
    "Run the cell below to import everything we'll need for this lab. "
   ]
  },
  {
   "cell_type": "code",
   "execution_count": 1,
   "metadata": {},
   "outputs": [
    {
     "name": "stderr",
     "output_type": "stream",
     "text": [
      "C:\\Users\\IBM\\Anaconda3\\envs\\learn-env\\lib\\site-packages\\gensim\\utils.py:1197: UserWarning: detected Windows; aliasing chunkize to chunkize_serial\n",
      "  warnings.warn(\"detected Windows; aliasing chunkize to chunkize_serial\")\n"
     ]
    }
   ],
   "source": [
    "import pandas as pd\n",
    "import numpy as np\n",
    "np.random.seed(0)\n",
    "from gensim.models import Word2Vec\n",
    "from nltk import word_tokenize"
   ]
  },
  {
   "cell_type": "markdown",
   "metadata": {},
   "source": [
    "Now, we'll import the data. You'll find the data stored in the file `'News_Category_Dataset_v2.json'`.  This file is compressed, so that it can be more easily stored in a github repo. **_Make sure to unzip the file before continuing!_**\n",
    "\n",
    "In the cell below, use the `read_json` function from pandas to read the dataset into a DataFrame. Be sure to also include the parameter `lines=True` when reading in the dataset!\n",
    "\n",
    "Once you've loaded in the data, inspect the head of the DataFrame to see what our data looks like. "
   ]
  },
  {
   "cell_type": "code",
   "execution_count": 2,
   "metadata": {},
   "outputs": [
    {
     "data": {
      "text/html": [
       "<div>\n",
       "<style scoped>\n",
       "    .dataframe tbody tr th:only-of-type {\n",
       "        vertical-align: middle;\n",
       "    }\n",
       "\n",
       "    .dataframe tbody tr th {\n",
       "        vertical-align: top;\n",
       "    }\n",
       "\n",
       "    .dataframe thead th {\n",
       "        text-align: right;\n",
       "    }\n",
       "</style>\n",
       "<table border=\"1\" class=\"dataframe\">\n",
       "  <thead>\n",
       "    <tr style=\"text-align: right;\">\n",
       "      <th></th>\n",
       "      <th>authors</th>\n",
       "      <th>category</th>\n",
       "      <th>date</th>\n",
       "      <th>headline</th>\n",
       "      <th>link</th>\n",
       "      <th>short_description</th>\n",
       "    </tr>\n",
       "  </thead>\n",
       "  <tbody>\n",
       "    <tr>\n",
       "      <th>0</th>\n",
       "      <td>Melissa Jeltsen</td>\n",
       "      <td>CRIME</td>\n",
       "      <td>2018-05-26</td>\n",
       "      <td>There Were 2 Mass Shootings In Texas Last Week...</td>\n",
       "      <td>https://www.huffingtonpost.com/entry/texas-ama...</td>\n",
       "      <td>She left her husband. He killed their children...</td>\n",
       "    </tr>\n",
       "    <tr>\n",
       "      <th>1</th>\n",
       "      <td>Andy McDonald</td>\n",
       "      <td>ENTERTAINMENT</td>\n",
       "      <td>2018-05-26</td>\n",
       "      <td>Will Smith Joins Diplo And Nicky Jam For The 2...</td>\n",
       "      <td>https://www.huffingtonpost.com/entry/will-smit...</td>\n",
       "      <td>Of course it has a song.</td>\n",
       "    </tr>\n",
       "    <tr>\n",
       "      <th>2</th>\n",
       "      <td>Ron Dicker</td>\n",
       "      <td>ENTERTAINMENT</td>\n",
       "      <td>2018-05-26</td>\n",
       "      <td>Hugh Grant Marries For The First Time At Age 57</td>\n",
       "      <td>https://www.huffingtonpost.com/entry/hugh-gran...</td>\n",
       "      <td>The actor and his longtime girlfriend Anna Ebe...</td>\n",
       "    </tr>\n",
       "    <tr>\n",
       "      <th>3</th>\n",
       "      <td>Ron Dicker</td>\n",
       "      <td>ENTERTAINMENT</td>\n",
       "      <td>2018-05-26</td>\n",
       "      <td>Jim Carrey Blasts 'Castrato' Adam Schiff And D...</td>\n",
       "      <td>https://www.huffingtonpost.com/entry/jim-carre...</td>\n",
       "      <td>The actor gives Dems an ass-kicking for not fi...</td>\n",
       "    </tr>\n",
       "    <tr>\n",
       "      <th>4</th>\n",
       "      <td>Ron Dicker</td>\n",
       "      <td>ENTERTAINMENT</td>\n",
       "      <td>2018-05-26</td>\n",
       "      <td>Julianna Margulies Uses Donald Trump Poop Bags...</td>\n",
       "      <td>https://www.huffingtonpost.com/entry/julianna-...</td>\n",
       "      <td>The \"Dietland\" actress said using the bags is ...</td>\n",
       "    </tr>\n",
       "  </tbody>\n",
       "</table>\n",
       "</div>"
      ],
      "text/plain": [
       "           authors       category       date  \\\n",
       "0  Melissa Jeltsen          CRIME 2018-05-26   \n",
       "1    Andy McDonald  ENTERTAINMENT 2018-05-26   \n",
       "2       Ron Dicker  ENTERTAINMENT 2018-05-26   \n",
       "3       Ron Dicker  ENTERTAINMENT 2018-05-26   \n",
       "4       Ron Dicker  ENTERTAINMENT 2018-05-26   \n",
       "\n",
       "                                            headline  \\\n",
       "0  There Were 2 Mass Shootings In Texas Last Week...   \n",
       "1  Will Smith Joins Diplo And Nicky Jam For The 2...   \n",
       "2    Hugh Grant Marries For The First Time At Age 57   \n",
       "3  Jim Carrey Blasts 'Castrato' Adam Schiff And D...   \n",
       "4  Julianna Margulies Uses Donald Trump Poop Bags...   \n",
       "\n",
       "                                                link  \\\n",
       "0  https://www.huffingtonpost.com/entry/texas-ama...   \n",
       "1  https://www.huffingtonpost.com/entry/will-smit...   \n",
       "2  https://www.huffingtonpost.com/entry/hugh-gran...   \n",
       "3  https://www.huffingtonpost.com/entry/jim-carre...   \n",
       "4  https://www.huffingtonpost.com/entry/julianna-...   \n",
       "\n",
       "                                   short_description  \n",
       "0  She left her husband. He killed their children...  \n",
       "1                           Of course it has a song.  \n",
       "2  The actor and his longtime girlfriend Anna Ebe...  \n",
       "3  The actor gives Dems an ass-kicking for not fi...  \n",
       "4  The \"Dietland\" actress said using the bags is ...  "
      ]
     },
     "execution_count": 2,
     "metadata": {},
     "output_type": "execute_result"
    }
   ],
   "source": [
    "raw_df = pd.read_json('News_Category_Dataset_v2.json', lines=True)\n",
    "raw_df.head()"
   ]
  },
  {
   "cell_type": "markdown",
   "metadata": {},
   "source": [
    "## Preparing the Data\n",
    "\n",
    "Since we're working with text data, we'll still need to do some basic preprocessing and tokenize our data. You'll notice from the sample of the data above that two different columns contain text data--`headline` and `short_description`. The more text data our Word2Vec model has, the better it will perform. Therefore, we'll want to combine the two columns before tokenizing each comment and training our Word2Vec model. \n",
    "\n",
    "In the cell below:\n",
    "\n",
    "* Create a column called `combined_text` that consists of the data from `df.headline` plus a space character (`' '`) plus the data from `df.short_description`.\n",
    "* Use the `combined_text` column's `map()` function and pass in `word_tokenize`. Store the result returned in `data`."
   ]
  },
  {
   "cell_type": "code",
   "execution_count": 5,
   "metadata": {},
   "outputs": [],
   "source": [
    "df = raw_df\n",
    "df['combined_text'] = df.headline + ' ' +  df.short_description\n",
    "data = df['combined_text'].map(word_tokenize)"
   ]
  },
  {
   "cell_type": "markdown",
   "metadata": {},
   "source": [
    "Let's inspect the first 5 items in `data` to see how everything looks. "
   ]
  },
  {
   "cell_type": "code",
   "execution_count": 6,
   "metadata": {},
   "outputs": [
    {
     "data": {
      "text/plain": [
       "0    [There, Were, 2, Mass, Shootings, In, Texas, L...\n",
       "1    [Will, Smith, Joins, Diplo, And, Nicky, Jam, F...\n",
       "2    [Hugh, Grant, Marries, For, The, First, Time, ...\n",
       "3    [Jim, Carrey, Blasts, 'Castrato, ', Adam, Schi...\n",
       "4    [Julianna, Margulies, Uses, Donald, Trump, Poo...\n",
       "Name: combined_text, dtype: object"
      ]
     },
     "execution_count": 6,
     "metadata": {},
     "output_type": "execute_result"
    }
   ],
   "source": [
    "data[:5]"
   ]
  },
  {
   "cell_type": "markdown",
   "metadata": {},
   "source": [
    "You'll notice that although the words are tokenized, they are still in the same order they were in as headlines. This is important, because the words need to be in their original order for Word2Vec to establish the meaning of them. Recall from our previous lesson on how Word2Vec works that we can specify a  **_Window Size_** that tells the model how many words to take into consideration at one time. \n",
    "\n",
    "If our window size was 5, then the model would start by looking at the words \"Will Smith joins Diplo and\", and then slide the window by one, so that it's looking at \"Smith joins Diplo and Nicky\", and so on, until it had completely processed the text example at index 1 above. By doing this for every piece of text in the entire dataset, the Word2Vec model learns excellent vector representations for each word in an **_Embedding Space_**, where the relationships between vectors capture semantic meaning (recall the vector that captures gender in the previous \"king - man + woman = queen\" example we saw).\n",
    "\n",
    "Now that we've prepared our data, let's train our model and explore a bit!\n",
    "\n",
    "## Training the Model\n",
    "\n",
    "We'll start by instantiating a Word2Vec Model from gensim below. \n",
    "\n",
    "In the cell below:\n",
    "\n",
    "* Create a `Word2Vec` model and pass in the following arguments:\n",
    "    * The dataset we'll be training on, `data`\n",
    "    * The size of the word vectors to create, `size=100`\n",
    "    * The window size, `window=5`\n",
    "    * The minimum number of times a word needs to appear in order to be counted in  the model, `min_count=1`.\n",
    "    * The number of threads to use during training, `workers=4`"
   ]
  },
  {
   "cell_type": "code",
   "execution_count": 7,
   "metadata": {},
   "outputs": [],
   "source": [
    "model = Word2Vec(data, size=100, window=5, min_count=1, workers=4)"
   ]
  },
  {
   "cell_type": "markdown",
   "metadata": {},
   "source": [
    "Now, that we've created our Word2Vec model, we still need to train it on our model. \n",
    "\n",
    "In the cell below:\n",
    "\n",
    "* Call `model.train()` and pass in the following parameters:\n",
    "    * The dataset we'll be training on, `data`\n",
    "    * The `total_examples`  of sentences in the dataset, which we can find in `model.corpus_count`. \n",
    "    * The number of `epochs` we want to train for, which we'll set to `10`"
   ]
  },
  {
   "cell_type": "code",
   "execution_count": 8,
   "metadata": {},
   "outputs": [
    {
     "data": {
      "text/plain": [
       "(55565899, 67352790)"
      ]
     },
     "execution_count": 8,
     "metadata": {},
     "output_type": "execute_result"
    }
   ],
   "source": [
    "model.train(data, total_examples=model.corpus_count, epochs=10)"
   ]
  },
  {
   "cell_type": "markdown",
   "metadata": {},
   "source": [
    "Great! We now have a fully trained model! The word vectors themselves are stored inside of a `Word2VecKeyedVectors` instance, which we'll find stored inside of `model.wv`. For simplicity's sake, let's go ahead and store this inside of the variable `wv` in order to save ourselves some keystrokes down the line. "
   ]
  },
  {
   "cell_type": "code",
   "execution_count": 9,
   "metadata": {},
   "outputs": [],
   "source": [
    "wv = model.wv"
   ]
  },
  {
   "cell_type": "markdown",
   "metadata": {},
   "source": [
    "## Examining Our Word Vectors\n",
    "\n",
    "Now that we have a trained Word2Vec model, let's go ahead and explore the relationships between some of the words in our corpus! \n",
    "\n",
    "One cool thing we can use Word2Vec for is to get the most similar words to a given word. We can do this passing in the word to `wv.most_similar()`. \n",
    "\n",
    "In the cell below, let's try getting the most similar word to `'Texas'`."
   ]
  },
  {
   "cell_type": "code",
   "execution_count": 10,
   "metadata": {},
   "outputs": [
    {
     "data": {
      "text/plain": [
       "[('Louisiana', 0.8161216378211975),\n",
       " ('Pennsylvania', 0.8133628368377686),\n",
       " ('Ohio', 0.8112701177597046),\n",
       " ('Arkansas', 0.8009861707687378),\n",
       " ('Illinois', 0.8009556531906128),\n",
       " ('Florida', 0.7938920259475708),\n",
       " ('Georgia', 0.7936521768569946),\n",
       " ('Oklahoma', 0.7925100326538086),\n",
       " ('Oregon', 0.7920001745223999),\n",
       " ('California', 0.7849875688552856)]"
      ]
     },
     "execution_count": 10,
     "metadata": {},
     "output_type": "execute_result"
    }
   ],
   "source": [
    "wv.most_similar('Texas')"
   ]
  },
  {
   "cell_type": "markdown",
   "metadata": {},
   "source": [
    "Interesting! All of the most similar words are also states. \n",
    "\n",
    "We can also get the least similar vectors to a given word by passing in the word to the `most_similar()` function's `negative` parameter. \n",
    "\n",
    "In the cell below, get the least similar words to `'Texas'`."
   ]
  },
  {
   "cell_type": "code",
   "execution_count": 11,
   "metadata": {},
   "outputs": [
    {
     "data": {
      "text/plain": [
       "[('Parent/Grandparent', 0.43353432416915894),\n",
       " ('Likened', 0.4102189838886261),\n",
       " ('Headstrong', 0.40859782695770264),\n",
       " ('Strategist™', 0.38602137565612793),\n",
       " ('Shukri', 0.3833690285682678),\n",
       " ('Animal-rescue', 0.37790945172309875),\n",
       " ('Uglies', 0.3773881793022156),\n",
       " ('Warstler', 0.3724198341369629),\n",
       " ('hyperarousal', 0.36879411339759827),\n",
       " ('Unelectable', 0.3597109615802765)]"
      ]
     },
     "execution_count": 11,
     "metadata": {},
     "output_type": "execute_result"
    }
   ],
   "source": [
    "wv.most_similar(negative='Texas')"
   ]
  },
  {
   "cell_type": "markdown",
   "metadata": {},
   "source": [
    "These seem like just noise. This is because of the way Word2Vec is computing the similarity between word vectors in the embedding space. Although the word vectors closest to a given word vector are almost certainly going to have similar meaning or connotation with our given word, the word vectors that the model considers 'least similar' are just the word vectors that are farthest away, or have the lowest cosine similarity. It's important to understand that while the closest vectors in the embedding space will almost certainly share some level of semantic meaning with a given word, there is no guarantee that this relationship will hold at large distances. \n",
    "\n",
    "We can also get the vector for a given word by passing in the word as if we were passing in a key to a dictionary. \n",
    "\n",
    "In the cell below, get the word vector for `'Texas'`."
   ]
  },
  {
   "cell_type": "code",
   "execution_count": 12,
   "metadata": {},
   "outputs": [
    {
     "data": {
      "text/plain": [
       "array([ 1.7033542 ,  0.10983875, -0.27028975,  1.2526102 ,  0.01240122,\n",
       "        2.7311707 , -0.48495272, -1.313863  ,  1.1573336 , -0.5580577 ,\n",
       "        0.8936086 ,  1.4560758 ,  2.5704477 , -0.30727232,  0.6737885 ,\n",
       "        0.8668194 ,  1.1103565 ,  1.0829471 , -0.44398856, -1.0206251 ,\n",
       "       -1.5633123 ,  0.6372574 , -0.6233909 ,  1.3719428 , -1.8912927 ,\n",
       "        1.6836795 ,  0.64552796, -0.53360146, -0.5826294 ,  0.3138724 ,\n",
       "       -0.5099845 , -1.0654771 , -2.2492518 ,  0.6469309 ,  1.7570301 ,\n",
       "        0.5810084 , -3.3545215 ,  1.1496614 ,  0.1650228 ,  0.78341246,\n",
       "       -0.30653402,  1.7784499 , -0.2032552 ,  0.19952503,  1.7417814 ,\n",
       "       -1.8152303 ,  0.02913889,  0.3538153 , -1.71749   ,  0.96108437,\n",
       "       -1.2924417 ,  0.5824199 ,  0.53612286,  1.4043275 ,  0.3149053 ,\n",
       "       -1.1631557 , -2.8583214 ,  0.67564553,  1.82265   ,  1.876144  ,\n",
       "        1.3275422 ,  1.5552937 , -1.5210029 ,  0.99233884, -0.702574  ,\n",
       "        0.3341685 ,  1.6550738 , -1.0681509 ,  1.2188993 , -0.00983502,\n",
       "       -0.31105065,  0.41984534,  0.2567361 , -1.3126197 , -0.6046957 ,\n",
       "        0.20232113, -2.211505  ,  1.7819194 ,  1.1875864 , -2.2247698 ,\n",
       "        2.4429572 , -0.7541863 ,  0.3675333 , -2.1060514 ,  0.92606586,\n",
       "        1.4691992 ,  0.239067  , -0.8356644 , -0.6073278 , -1.1191895 ,\n",
       "       -0.25754556,  1.8816378 , -0.30514944,  3.5702572 ,  3.033053  ,\n",
       "        1.8329482 , -1.4167895 , -0.26621148, -2.153309  ,  0.00899962],\n",
       "      dtype=float32)"
      ]
     },
     "execution_count": 12,
     "metadata": {},
     "output_type": "execute_result"
    }
   ],
   "source": [
    "wv['Texas']"
   ]
  },
  {
   "cell_type": "markdown",
   "metadata": {},
   "source": [
    "Let's get all of the word vectors from the object at once. We can find these inside of `wv.vectors`.  Do this now in the cell below.  "
   ]
  },
  {
   "cell_type": "code",
   "execution_count": 13,
   "metadata": {},
   "outputs": [
    {
     "data": {
      "text/plain": [
       "array([[-2.1846414 , -1.3359983 , -1.3975213 , ...,  0.28779083,\n",
       "        -0.11099312,  0.18288648],\n",
       "       [-1.6120844 , -0.98750883, -1.11134   , ..., -0.12688911,\n",
       "         1.4180715 ,  2.405454  ],\n",
       "       [-1.9938906 , -1.0590508 ,  0.3018412 , ..., -0.05747769,\n",
       "         0.26111287,  1.7484448 ],\n",
       "       ...,\n",
       "       [ 0.02972223,  0.06800155,  0.11629951, ..., -0.05503089,\n",
       "        -0.00293444, -0.14503552],\n",
       "       [-0.05553997, -0.03984843, -0.02369823, ...,  0.02515222,\n",
       "         0.02990028, -0.03056056],\n",
       "       [-0.00330938,  0.03601328,  0.07603747, ..., -0.02964595,\n",
       "        -0.00453283, -0.048712  ]], dtype=float32)"
      ]
     },
     "execution_count": 13,
     "metadata": {},
     "output_type": "execute_result"
    }
   ],
   "source": [
    "wv.vectors"
   ]
  },
  {
   "cell_type": "markdown",
   "metadata": {},
   "source": [
    "As a final exercise, let's try recreating the _'king' - 'man' + 'woman' = 'queen'_ example we've seen before. We can do this by using the `most_similar` function and putting the things we want added together inside of an array passed to the `positive` parameter, and the things we want subtracted as an array passed to the the `negative` parameter. \n",
    "\n",
    "Do this now in the cell below. "
   ]
  },
  {
   "cell_type": "code",
   "execution_count": 14,
   "metadata": {},
   "outputs": [
    {
     "data": {
      "text/plain": [
       "[('crown', 0.6509697437286377),\n",
       " ('princess', 0.6123356819152832),\n",
       " ('brunette', 0.5795804858207703),\n",
       " ('queen', 0.5768389701843262),\n",
       " ('sassy', 0.5622394680976868),\n",
       " ('supermodel', 0.5614981651306152),\n",
       " ('reminiscent', 0.5604060888290405),\n",
       " ('revival', 0.5535798072814941),\n",
       " ('jewel', 0.5477061867713928),\n",
       " ('remix', 0.5441933870315552)]"
      ]
     },
     "execution_count": 14,
     "metadata": {},
     "output_type": "execute_result"
    }
   ],
   "source": [
    "wv.most_similar(positive=['king', 'woman'], negative=['man'])"
   ]
  },
  {
   "cell_type": "markdown",
   "metadata": {},
   "source": [
    "As we can see from the output above, our model isn't perfect, but 'Queen' is still in the top 3, and with 'Princess' not too far behind. As we can see from the word in first place, 'reminiscent', our model is far from perfect. This is likely because we didn't give it too much training, or training data. However, for the small amount of training data it was given, the model still performs remarkably well! \n",
    "\n",
    "We'll see in the next lab that from a practical standpoint, one of the best things we can do for performance is to start by loading in the weights from an open-sourced model that has been trained for a very long time on a massive amount of data, such as the GloVe model from the Stanford NLP Group. There's not really any benefit from training the model ourselves, unless our text uses different, specialized vocabulary that isn't likely to be well represented inside an open-source model.\n",
    "\n",
    "## Summary\n",
    "\n",
    "In this lab, we learned how to train and use a Word2Vec model to created vectorized word embeddings!"
   ]
  }
 ],
 "metadata": {
  "kernelspec": {
   "display_name": "Python 3",
   "language": "python",
   "name": "python3"
  },
  "language_info": {
   "codemirror_mode": {
    "name": "ipython",
    "version": 3
   },
   "file_extension": ".py",
   "mimetype": "text/x-python",
   "name": "python",
   "nbconvert_exporter": "python",
   "pygments_lexer": "ipython3",
   "version": "3.6.6"
  }
 },
 "nbformat": 4,
 "nbformat_minor": 2
}
